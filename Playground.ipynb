{
 "cells": [
  {
   "cell_type": "code",
   "execution_count": 114,
   "metadata": {},
   "outputs": [],
   "source": [
    "import pandas as pd\n",
    "import numpy as np"
   ]
  },
  {
   "cell_type": "markdown",
   "metadata": {},
   "source": [
    "Этот модуль нужно будет подставить вместо того кода, который сейчас находится в проекте по адресу: /example/index/views/py. Начиная со строк `import pandas`, до `context={`"
   ]
  },
  {
   "cell_type": "code",
   "execution_count": 115,
   "metadata": {},
   "outputs": [],
   "source": [
    "# Функция которая приравнивает два значения в чуть большей границе\n",
    "# Нужна чтобы у нас значения типа 2.84 и 2.83 были равны\n",
    "def Equals(value, comparison, difference=0.3):\n",
    "    if (comparison <= value+difference) & (comparison >= value-difference):\n",
    "        return True\n",
    "    else:\n",
    "        return False"
   ]
  },
  {
   "cell_type": "code",
   "execution_count": 116,
   "metadata": {},
   "outputs": [],
   "source": [
    "# Функция для проверки на nan\n",
    "def CheckNan(value,comparison):\n",
    "    if (np.isnan(value)) or (np.isnan(comparison)):\n",
    "        return True\n",
    "    else:\n",
    "        return False"
   ]
  },
  {
   "cell_type": "code",
   "execution_count": 117,
   "metadata": {},
   "outputs": [],
   "source": [
    "df = pd.read_csv('/Users/denispavlenko/Downloads/HSE_DB.csv',decimal=\",\")"
   ]
  },
  {
   "cell_type": "code",
   "execution_count": 118,
   "metadata": {},
   "outputs": [],
   "source": [
    "# У нас там в качестве уникаольного идентификатора стоит аксес-ключ, так что я использую его как индекс\n",
    "# Это не суперудобно, поэтому его стоит или заменить или писать код умнее\n",
    "df.set_index('ac',inplace=True)"
   ]
  },
  {
   "cell_type": "code",
   "execution_count": 119,
   "metadata": {},
   "outputs": [],
   "source": [
    "# Оставляем только те варианты ответов, которые нас интересуют -- табличные\n",
    "Table = df[['Направление', \n",
    "   'Q03_r1','Q03_r2','Q03_r3','Q03_r4','Q03_r5','Q03_r6',\n",
    "   'Q07_r1','Q07_r2','Q07_r3','Q07_r4','Q07_r5',\n",
    "   'Q09_r1','Q09_r2','Q09_r3','Q09_r4','Q09_r5',\n",
    "   'Q12_r1','Q12_r2','Q12_r3','Q12_r4','Q12_r5','Q12_r6','Q12_r7','Q12_r8',\n",
    "   'Q14_r1','Q14_r2','Q14_r3','Q14_r4','Q14_r5','Q14_r6', 'Q15original_for_index', 'Q14_15_mean',\n",
    "   'Q18_r1','Q18_r2','Q18_r3',\n",
    "   'Q20_r1','Q20_r2','Q20_r3',\n",
    "   'Q22_r1','Q22_r2','Q22_r3','Q22_r4',\n",
    "   'Q27_r1','Q27_r2','Q27_r3','Q27_r4',\n",
    "   'Q28_r1','Q28_r2','Q28_r3','Q28_r4','Q28_r5','Q28_r6',\n",
    "   'Q30_r1','Q30_r2','Q30_r3','Q30_r4','Q30_r5',\n",
    "   'Q31_r1','Q31_r2','Q31_r3', \n",
    "   'FIN_mean', 'risk', 'openness','ocenka','OD_mean']]\n",
    "\n",
    "# 999 (затруднились с ответом) и пустые значения заполняем как nan\n",
    "Table = Table.fillna(999).replace(999,np.nan).replace('',np.nan)"
   ]
  },
  {
   "cell_type": "code",
   "execution_count": 139,
   "metadata": {},
   "outputs": [],
   "source": [
    "# Собираем группы вопросов \n",
    "TableGroups = pd.DataFrame({'Стратегия и планирование':[['Q03_r1','Q03_r2','Q03_r3','Q03_r4','Q03_r5','Q03_r6']],\n",
    "    'Управление организацией':[['Q07_r1','Q07_r2','Q07_r3','Q07_r4','Q07_r5']],\n",
    "    'Организационная культура':[['Q09_r1','Q09_r2','Q09_r3','Q09_r4','Q09_r5']],\n",
    "    'Проекты и мероприятия':[['Q12_r1','Q12_r2','Q12_r3','Q12_r4','Q12_r5','Q12_r6','Q12_r7','Q12_r8']],\n",
    "    'Сотрудники':[['Q14_r1','Q14_r2','Q14_r3','Q14_r4','Q14_r5','Q14_r6']],\n",
    "    'Волонтеры':[['Q18_r1','Q18_r2','Q18_r3']],\n",
    "    'Финансовая устойчивость':[['Q20_r1','Q20_r2','Q20_r3','Q22_r1','Q22_r2','Q22_r3','Q22_r4','Q27_r1','Q27_r2','Q27_r3','Q27_r4']],\n",
    "    'Внешние коммуникации':[['Q28_r1','Q28_r2','Q28_r3','Q28_r4','Q28_r5','Q28_r6','Q30_r1','Q30_r2','Q30_r3','Q30_r4','Q30_r5']],\n",
    "    'Адвокация':[['Q31_r1','Q31_r2','Q31_r3']]})"
   ]
  },
  {
   "cell_type": "code",
   "execution_count": 140,
   "metadata": {},
   "outputs": [],
   "source": [
    "# Датафрейм, в котором содержатся направления НКО\n",
    "Table_main = pd.DataFrame(Table['Направление'])"
   ]
  },
  {
   "cell_type": "code",
   "execution_count": 141,
   "metadata": {},
   "outputs": [],
   "source": [
    "# Таблица со средними значениями по видам деятельности и по группам вопросам \n",
    "# (Таблица 1 в гугл доке)\n",
    "for c in TableGroups.columns:\n",
    "        Table_main[c] = Table[TableGroups[c][0]].mean(axis=1)\n",
    "\n",
    "Table_main = Table_main.groupby(by='Направление').mean().round(2)\n",
    "Table_main = Table_main.T"
   ]
  },
  {
   "cell_type": "code",
   "execution_count": 144,
   "metadata": {},
   "outputs": [],
   "source": [
    "# Эта функция получает номер вопроса, номер аксес ключа организации \n",
    "# Опциально: округление(round в документе) и название вида деятельности \n",
    "def Search(index, ac, round=False, activity=None):\n",
    "    dataframe = Table \n",
    "    nonprofit =  dataframe.loc[ac,index]\n",
    "    mean = dataframe.loc[:,index].mean().round(2)\n",
    "\n",
    "    if activity != None: # Получаем название направления и фильтруем по нему\n",
    "        dataframe = Table[Table['Направление'].str.contains(activity)]\n",
    "    \n",
    "    if round == True: # Иногда нам нужно округлять сравниваемое значение до целого\n",
    "        mean = mean.round()\n",
    "\n",
    "# Дальше возвращаем tuple из значения и его статуса\n",
    "\n",
    "    if CheckNan(nonprofit, mean):\n",
    "        return (nonprofit,'nan')\n",
    "    elif Equals(nonprofit, mean):\n",
    "        return (nonprofit,'equals')\n",
    "    elif nonprofit > mean:\n",
    "        return (nonprofit,'more')\n",
    "    elif nonprofit < mean:\n",
    "        return (nonprofit,'less')\n",
    "\n",
    "# Денис: расширить функцию для того, чтобы можно было сравнивать результаты группы вопросов \n",
    "# (сделать опц. параметр и выборку по более широкому запросу)"
   ]
  },
  {
   "cell_type": "code",
   "execution_count": 146,
   "metadata": {},
   "outputs": [],
   "source": [
    "# Ответы на вопросы хранятся в этом классе\n",
    "class Answer():\n",
    "    def __init__(self,nan,equals,more,less):\n",
    "        self.nan = 'На большую часть вопросов вы затруднились ответить, к сожалению, мы не можем рассчитать для вас среднее значение по данному показателю.'\n",
    "        self.equals = equals\n",
    "        self.more = more\n",
    "        self.less = less\n",
    "\n",
    "    def AnswerText(self, value, state):\n",
    "        match state:\n",
    "            case 'nan':\n",
    "                return self.nan\n",
    "            case 'equals':\n",
    "                return self.equals\n",
    "            case 'more':\n",
    "                return self.more\n",
    "            case 'less':\n",
    "                return self.less "
   ]
  },
  {
   "cell_type": "code",
   "execution_count": 158,
   "metadata": {},
   "outputs": [],
   "source": [
    "# Пример класса с ответами\n",
    "# Денис: нужно будет сделать обработку \"Составляет ()\" с помощью форматирования строк или шаблонов\n",
    "OD = Answer('На большую часть утверждений вы затруднились ответить. К сожалению, мы не смогли рассчитать значение уровня организационного развития вашей НКО.',\n",
    "    'Уровень организационного развития вашей НКО сопоставимый и составляет',\n",
    "    'Уровень организационного развития вашей НКО выше и составляет',\n",
    "    'Уровень организационного развития вашей НКО ниже и составляет')"
   ]
  },
  {
   "cell_type": "code",
   "execution_count": 180,
   "metadata": {},
   "outputs": [
    {
     "name": "stdout",
     "output_type": "stream",
     "text": [
      "Уровень организационного развития вашей НКО сопоставимый и составляет 3.85\n"
     ]
    }
   ],
   "source": [
    "# Пример итогового запроса\n",
    "ac = 4\n",
    "SearchResults = Search('OD_mean',ac, round=True)\n",
    "print(OD.AnswerText(SearchResults[0],SearchResults[1]), SearchResults[0]) # Это костыль, но зато можно потестить"
   ]
  },
  {
   "cell_type": "markdown",
   "metadata": {},
   "source": [
    "**Что делать дальше?**\n",
    "\n",
    "1. Перенести большую часть вопросов в класс вопросов\n",
    "2. Сделать обработку \"Составляет ()\"\n",
    "3. *Создать lists с названиями параметров для того, чтобы по ним нарисовать график*\n",
    "4. Расширить функцию Search на обработку значений группы вопросов\n",
    "4. Расширить функцию Search на обработку значений, которые сравнивают значения персональные с общими, а их с 1,2,3 и 4,5\n",
    "5. Собрать всё это вместе"
   ]
  }
 ],
 "metadata": {
  "interpreter": {
   "hash": "aee8b7b246df8f9039afb4144a1f6fd8d2ca17a180786b69acc140d282b71a49"
  },
  "kernelspec": {
   "display_name": "Python 3.10.1 64-bit",
   "language": "python",
   "name": "python3"
  },
  "language_info": {
   "codemirror_mode": {
    "name": "ipython",
    "version": 3
   },
   "file_extension": ".py",
   "mimetype": "text/x-python",
   "name": "python",
   "nbconvert_exporter": "python",
   "pygments_lexer": "ipython3",
   "version": "3.10.1"
  },
  "orig_nbformat": 4
 },
 "nbformat": 4,
 "nbformat_minor": 2
}
